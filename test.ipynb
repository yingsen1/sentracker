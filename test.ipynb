{
 "cells": [
  {
   "cell_type": "code",
   "execution_count": 1,
   "metadata": {},
   "outputs": [],
   "source": [
    "from model import *"
   ]
  },
  {
   "cell_type": "code",
   "execution_count": 4,
   "metadata": {},
   "outputs": [],
   "source": [
    "matfile = '/home/wilsontsang/SENTrack/models/imagenet-vgg-m.mat'"
   ]
  },
  {
   "cell_type": "code",
   "execution_count": 5,
   "metadata": {},
   "outputs": [
    {
     "name": "stdout",
     "output_type": "stream",
     "text": [
      "/home/wilsontsang/SENTrack/models/imagenet-vgg-m.mat\n",
      "conv1_se_weight have already in param, so plus _2\n",
      "conv1_se_bias have already in param, so plus _2\n",
      "conv2_se_weight have already in param, so plus _2\n",
      "conv2_se_bias have already in param, so plus _2\n",
      "conv3_se_weight have already in param, so plus _2\n",
      "conv3_se_bias have already in param, so plus _2\n"
     ]
    }
   ],
   "source": [
    "net = MDNet(matfile, K=10)"
   ]
  },
  {
   "cell_type": "code",
   "execution_count": 6,
   "metadata": {
    "scrolled": true
   },
   "outputs": [
    {
     "data": {
      "text/plain": [
       "MDNet(\n",
       "  (layers): Sequential(\n",
       "    (conv1): Sequential(\n",
       "      (0): Conv2d (3, 96, kernel_size=(7, 7), stride=(2, 2))\n",
       "      (1): ReLU()\n",
       "      (2): LRN(\n",
       "      )\n",
       "      (3): MaxPool2d(kernel_size=(3, 3), stride=(2, 2), dilation=(1, 1))\n",
       "    )\n",
       "    (conv2): Sequential(\n",
       "      (0): Conv2d (96, 256, kernel_size=(5, 5), stride=(2, 2))\n",
       "      (1): ReLU()\n",
       "      (2): LRN(\n",
       "      )\n",
       "      (3): MaxPool2d(kernel_size=(3, 3), stride=(2, 2), dilation=(1, 1))\n",
       "    )\n",
       "    (conv3): Sequential(\n",
       "      (0): Conv2d (256, 512, kernel_size=(3, 3), stride=(1, 1))\n",
       "      (1): ReLU()\n",
       "    )\n",
       "    (fc4): Sequential(\n",
       "      (0): Dropout(p=0.5)\n",
       "      (1): Linear(in_features=4608, out_features=512)\n",
       "      (2): ReLU()\n",
       "    )\n",
       "    (fc5): Sequential(\n",
       "      (0): Dropout(p=0.5)\n",
       "      (1): Linear(in_features=512, out_features=512)\n",
       "      (2): ReLU()\n",
       "    )\n",
       "  )\n",
       "  (seblocks): Sequential(\n",
       "    (conv1_se): Sequential(\n",
       "      (0): AvgPool2d(kernel_size=51, stride=1, padding=0, ceil_mode=False, count_include_pad=True)\n",
       "      (1): Linear(in_features=96, out_features=6)\n",
       "      (2): ReLU()\n",
       "      (3): Linear(in_features=6, out_features=96)\n",
       "      (4): Sigmoid()\n",
       "    )\n",
       "    (conv2_se): Sequential(\n",
       "      (0): AvgPool2d(kernel_size=11, stride=1, padding=0, ceil_mode=False, count_include_pad=True)\n",
       "      (1): Linear(in_features=256, out_features=16)\n",
       "      (2): ReLU()\n",
       "      (3): Linear(in_features=16, out_features=256)\n",
       "      (4): Sigmoid()\n",
       "    )\n",
       "    (conv3_se): Sequential(\n",
       "      (0): AvgPool2d(kernel_size=3, stride=1, padding=0, ceil_mode=False, count_include_pad=True)\n",
       "      (1): Linear(in_features=512, out_features=32)\n",
       "      (2): ReLU()\n",
       "      (3): Linear(in_features=32, out_features=512)\n",
       "      (4): Sigmoid()\n",
       "    )\n",
       "  )\n",
       "  (branches): ModuleList(\n",
       "    (0): Sequential(\n",
       "      (0): Dropout(p=0.5)\n",
       "      (1): Linear(in_features=512, out_features=2)\n",
       "    )\n",
       "    (1): Sequential(\n",
       "      (0): Dropout(p=0.5)\n",
       "      (1): Linear(in_features=512, out_features=2)\n",
       "    )\n",
       "    (2): Sequential(\n",
       "      (0): Dropout(p=0.5)\n",
       "      (1): Linear(in_features=512, out_features=2)\n",
       "    )\n",
       "    (3): Sequential(\n",
       "      (0): Dropout(p=0.5)\n",
       "      (1): Linear(in_features=512, out_features=2)\n",
       "    )\n",
       "    (4): Sequential(\n",
       "      (0): Dropout(p=0.5)\n",
       "      (1): Linear(in_features=512, out_features=2)\n",
       "    )\n",
       "    (5): Sequential(\n",
       "      (0): Dropout(p=0.5)\n",
       "      (1): Linear(in_features=512, out_features=2)\n",
       "    )\n",
       "    (6): Sequential(\n",
       "      (0): Dropout(p=0.5)\n",
       "      (1): Linear(in_features=512, out_features=2)\n",
       "    )\n",
       "    (7): Sequential(\n",
       "      (0): Dropout(p=0.5)\n",
       "      (1): Linear(in_features=512, out_features=2)\n",
       "    )\n",
       "    (8): Sequential(\n",
       "      (0): Dropout(p=0.5)\n",
       "      (1): Linear(in_features=512, out_features=2)\n",
       "    )\n",
       "    (9): Sequential(\n",
       "      (0): Dropout(p=0.5)\n",
       "      (1): Linear(in_features=512, out_features=2)\n",
       "    )\n",
       "  )\n",
       ")"
      ]
     },
     "execution_count": 6,
     "metadata": {},
     "output_type": "execute_result"
    }
   ],
   "source": [
    "net"
   ]
  },
  {
   "cell_type": "code",
   "execution_count": null,
   "metadata": {},
   "outputs": [],
   "source": []
  }
 ],
 "metadata": {
  "kernelspec": {
   "display_name": "Python 2",
   "language": "python",
   "name": "python2"
  },
  "language_info": {
   "codemirror_mode": {
    "name": "ipython",
    "version": 2
   },
   "file_extension": ".py",
   "mimetype": "text/x-python",
   "name": "python",
   "nbconvert_exporter": "python",
   "pygments_lexer": "ipython2",
   "version": "2.7.14"
  }
 },
 "nbformat": 4,
 "nbformat_minor": 2
}
